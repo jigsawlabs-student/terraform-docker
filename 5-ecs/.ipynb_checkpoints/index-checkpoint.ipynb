{
 "cells": [
  {
   "cell_type": "markdown",
   "id": "fed4b7ee-e8d7-4637-8d8b-b42268eeb1d3",
   "metadata": {},
   "source": [
    "[Terraform docker start](https://jazz-twk.medium.com/single-node-docker-with-ec2-ecr-terraform-asp-net-core-api-1fdb5c6deea4)"
   ]
  },
  {
   "cell_type": "markdown",
   "id": "bb5a4f87-f01f-48d6-a5e7-b0387f50a444",
   "metadata": {},
   "source": [
    "[Terraform Docker](https://blog.devops.dev/deploying-docker-image-on-aws-ecs-infrastructure-automation-using-terraform-a-step-by-step-guide-23e17e5ced76)"
   ]
  },
  {
   "cell_type": "markdown",
   "id": "bf867371-3ab4-4fc5-bddb-675a53eaa73a",
   "metadata": {},
   "source": [
    "[Terraform ECS](https://spacelift.io/blog/terraform-ecs)"
   ]
  },
  {
   "cell_type": "markdown",
   "id": "a39624c7-098f-4b61-8f2b-55fa3fc19048",
   "metadata": {},
   "source": [
    "[Terraform github actions](https://itisaby.hashnode.dev/configure-aws-ecr-with-terraform-github-actions)"
   ]
  },
  {
   "cell_type": "markdown",
   "id": "643923c8-d770-4c4c-96ed-0ab74e323158",
   "metadata": {},
   "source": [
    "[Docker and Terraform](https://klotzandrew.com/blog/deploy-an-ec2-to-run-docker-with-terraform)"
   ]
  },
  {
   "cell_type": "code",
   "execution_count": null,
   "id": "a84edcde-992e-4d4b-be07-4d06461fa751",
   "metadata": {},
   "outputs": [],
   "source": []
  }
 ],
 "metadata": {
  "kernelspec": {
   "display_name": "Python 3 (ipykernel)",
   "language": "python",
   "name": "python3"
  },
  "language_info": {
   "codemirror_mode": {
    "name": "ipython",
    "version": 3
   },
   "file_extension": ".py",
   "mimetype": "text/x-python",
   "name": "python",
   "nbconvert_exporter": "python",
   "pygments_lexer": "ipython3",
   "version": "3.9.12"
  }
 },
 "nbformat": 4,
 "nbformat_minor": 5
}
