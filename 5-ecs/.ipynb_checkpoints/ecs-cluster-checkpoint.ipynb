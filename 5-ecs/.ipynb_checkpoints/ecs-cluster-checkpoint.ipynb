{
 "cells": [
  {
   "cell_type": "markdown",
   "id": "5def0923-f52a-4258-9ea5-0d5358bf11ef",
   "metadata": {},
   "source": [
    "# AWS Elastic Container Service"
   ]
  },
  {
   "cell_type": "markdown",
   "id": "84c99284-cf8f-4379-bd65-61b5e61b2343",
   "metadata": {},
   "source": [
    "### Introduction"
   ]
  },
  {
   "cell_type": "markdown",
   "id": "30d30282-7b1f-48ba-a3a9-fe8c011856cc",
   "metadata": {},
   "source": [
    "In this lesson we'll learn about elastic container service.  The elastic container service is an AWS service that can access images located in AWS ECR (the container registry), boot up the images into a container, and determine which machines to run the containers on.\n",
    "\n",
    "Let's get started."
   ]
  },
  {
   "cell_type": "markdown",
   "id": "2b4138ae-9ab8-422f-9b37-a58f4bf7cdd2",
   "metadata": {},
   "source": [
    "### Booting up a Flask App"
   ]
  },
  {
   "cell_type": "markdown",
   "id": "93e92fb5-b12b-4c8c-bea7-b65890f8a82e",
   "metadata": {},
   "source": [
    "* `docker build -t sample_flask .`"
   ]
  },
  {
   "cell_type": "markdown",
   "id": "c64dbc92-d455-4c14-bead-8ecad43639da",
   "metadata": {},
   "source": [
    "* `docker run  -p 3000:5000 sample_flask`"
   ]
  },
  {
   "cell_type": "markdown",
   "id": "7e41e466-f85c-4d89-83a2-1d3b35de79fa",
   "metadata": {},
   "source": [
    "Then from there we can push the repo to AWS ECR."
   ]
  },
  {
   "cell_type": "markdown",
   "id": "4a7b70af-409b-43ce-830a-6f1fd3f29da8",
   "metadata": {},
   "source": [
    "<img src=\"./create-repo.png\">"
   ]
  },
  {
   "cell_type": "markdown",
   "id": "10ece0d3-8259-44f1-be41-d809e51ff938",
   "metadata": {},
   "source": [
    "`docker tag sample_flask 086729879076.dkr.ecr.us-east-1.amazonaws.com/flask_app`"
   ]
  },
  {
   "cell_type": "markdown",
   "id": "f0742a0e-c49d-49e4-92a3-800e33a82dd5",
   "metadata": {},
   "source": [
    "```bash\n",
    "(base) % docker image ls\n",
    "REPOSITORY                                                 TAG       IMAGE ID       CREATED         SIZE\n",
    "086729879076.dkr.ecr.us-east-1.amazonaws.com/flask_app     latest    faa24b2f3b27   6 minutes ago   53.1MB\n",
    "```"
   ]
  },
  {
   "cell_type": "markdown",
   "id": "32b40f85-d365-4bdd-a142-97d8338b05f7",
   "metadata": {},
   "source": [
    "* Then push to the ECR repository."
   ]
  },
  {
   "cell_type": "markdown",
   "id": "0e8274b3-0cd9-444a-949a-d37ac590273c",
   "metadata": {},
   "source": [
    "`docker push 086729879076.dkr.ecr.us-east-1.amazonaws.com/flask_app`"
   ]
  },
  {
   "cell_type": "markdown",
   "id": "88f96b49-e00f-4f8d-ba0b-ca856d976dfe",
   "metadata": {},
   "source": [
    "### Getting Set Up With ECS"
   ]
  },
  {
   "cell_type": "markdown",
   "id": "ee4c4533-ec79-4ada-85e6-451d7923a2e6",
   "metadata": {},
   "source": [
    "So at this point we have our flask docker image pushed to our ECR repository.  To use this docker image on an EC2 machine, we can set up an ECS cluster, and then use ECS to boot up our image into a container.\n",
    "\n",
    "* What's ECS\n",
    "\n",
    "So what is ECS?  Well if you think about it, if we want to boot up our containers automatically, Amazon will need:\n",
    "\n",
    "1. **Machines** to run our containers on (EC2 machines)\n",
    "2. **Controller** to boot up the containers on an AWS Machine\n",
    "\n",
    "> In the [AWS documentation](https://docs.aws.amazon.com/AmazonECS/latest/developerguide/Welcome.html), you may also see mention of provisioning -- but this is just the mechanisms by which we can tell the controller to boot up our containers on a specific machine."
   ]
  },
  {
   "cell_type": "markdown",
   "id": "3badb72d-34b7-4795-9be4-1cbdcc93c7cf",
   "metadata": {},
   "source": [
    "### Creating a cluster"
   ]
  },
  {
   "cell_type": "markdown",
   "id": "e4714554-8450-4b75-92c6-a81fafb891ce",
   "metadata": {},
   "source": [
    "Now, if we [go to ECS](https://us-east-1.console.aws.amazon.com/ecs/v2/clusters?region=us-east-1), the next thing to do is to create a cluster."
   ]
  },
  {
   "cell_type": "markdown",
   "id": "888330e4-7544-402d-b9dd-fdcf3a48f950",
   "metadata": {},
   "source": [
    "<img src=\"./ecs-create.png\">"
   ]
  },
  {
   "cell_type": "markdown",
   "id": "2a2d88d4-d08f-4b4c-94a3-ee69343694a9",
   "metadata": {},
   "source": [
    "It's a *cluster*, because we can have multiple EC2 instances in our cluster, and boot up multiple containers across these instances.\n",
    "\n",
    "Now click on create cluster, and we can get a better idea of what's involved."
   ]
  },
  {
   "cell_type": "markdown",
   "id": "c7da2981-4b30-4bd2-9cd7-11178624f91c",
   "metadata": {},
   "source": [
    "### Creating our Cluster"
   ]
  },
  {
   "cell_type": "markdown",
   "id": "172082eb-81fa-47c2-9dc4-54ec258ad5f9",
   "metadata": {},
   "source": [
    "So in creating your cluster, you can see that you can specify the machines be managed EC2 machines, or Fargate (which we'll discuss later)."
   ]
  },
  {
   "cell_type": "markdown",
   "id": "2548b2e6-a5d3-41a5-aa37-74a66f1f2292",
   "metadata": {},
   "source": [
    "<img src=\"./flask-app.png\">"
   ]
  },
  {
   "cell_type": "markdown",
   "id": "b9f9727e-3b78-45fc-87ee-a68ebc8e0a9f",
   "metadata": {},
   "source": [
    "And that in specifying the EC2 option, we then need to specify the operating system of our instances, the size (GB and memory), and the number of instances we would like in our cluster."
   ]
  },
  {
   "cell_type": "markdown",
   "id": "a637c073-0c8c-4b81-8973-576d341ac440",
   "metadata": {},
   "source": [
    "If you click on `Create Cluster` at the bottom of the page, AWS will start building your cluster."
   ]
  },
  {
   "cell_type": "markdown",
   "id": "09c8328f-ad4a-461d-b644-a9d86d9072b4",
   "metadata": {},
   "source": [
    "### Exploring the Cluster"
   ]
  },
  {
   "cell_type": "markdown",
   "id": "4443c767-b512-4c5e-b547-c8047eb4822c",
   "metadata": {},
   "source": [
    "So now we can see the EC2 cluster. Now if you look on the panel, you'll see the term tasks, and see that no tasks are running. "
   ]
  },
  {
   "cell_type": "markdown",
   "id": "b496417d-ccc8-4a9c-91fa-6caae98c5854",
   "metadata": {},
   "source": [
    "<img src=\"./flask-cluster.png\">"
   ]
  },
  {
   "cell_type": "markdown",
   "id": "10dd38a0-4085-44ff-aea2-6a7f331b1b74",
   "metadata": {},
   "source": [
    "So what is a task?  Well a task is a container running on our cluster.  To create a task, we need to specify a **task definition**.\n",
    "\n",
    "A task definition is similar to our docker command (or docker-compose file).  In other words, with the task definition we specify how to boot up the container, specifying any port-mappings or volumes that we need to use.  However, one difference is that in our task definition we *also* specify any hardware limits on each container (eg. memory or hard drive usage).  "
   ]
  },
  {
   "cell_type": "markdown",
   "id": "bed756c2-f147-4458-96fa-47efa2d7083a",
   "metadata": {},
   "source": [
    "```json\n",
    "{\n",
    "  \"family\": \"simpleflask\",\n",
    "  \"containerDefinitions\": [\n",
    "    {\n",
    "      \"name\": \"flaskapp\",\n",
    "      \"image\": \"086729879076.dkr.ecr.us-east-1.amazonaws.com/flask_app\",\n",
    "      \"cpu\": 128,\n",
    "      \"memoryReservation\": 128,\n",
    "      \"portMappings\": [\n",
    "        {\n",
    "          \"containerPort\": 5000,\n",
    "          \"protocol\": \"tcp\"\n",
    "        }\n",
    "      ],\n",
    "      \"command\": [\n",
    "        \"run\", \"--host\", \"0.0.0.0\"\n",
    "      ],\n",
    "      \"essential\": true\n",
    "    }\n",
    "  ]\n",
    "}\n",
    "```"
   ]
  },
  {
   "cell_type": "markdown",
   "id": "0ef80147-ad18-4b0f-8238-0aabf1ad88b3",
   "metadata": {},
   "source": [
    "Then you can run the following to upload the task-definition to aws."
   ]
  },
  {
   "cell_type": "markdown",
   "id": "7a8acbf4-9183-43ae-a8fc-74e3ec78e544",
   "metadata": {},
   "source": [
    "`aws ecs register-task-definition --cli-input-json file://task-definition.json`"
   ]
  },
  {
   "cell_type": "markdown",
   "id": "27ccbe58-3f8c-4432-bae0-c8e82697a87a",
   "metadata": {},
   "source": [
    "From there, you'll see the task definition added to AWS."
   ]
  },
  {
   "cell_type": "markdown",
   "id": "67f1be2f-e43c-42c5-91fb-b387e0213fe3",
   "metadata": {},
   "source": [
    "<img src=\"./ecs-task.png\">"
   ]
  },
  {
   "cell_type": "markdown",
   "id": "330bbf13-95d6-40c8-b60a-04c10170d350",
   "metadata": {},
   "source": [
    "Now we have added the task definition, which specifies how to boot up our image on a container, and the hardware constraints on that container, but we have not associated that task definition with our cluster.  If we refresh our cluster, we'll see this.\n",
    "\n",
    "<img src=\"./ecs-cluster.png\">"
   ]
  },
  {
   "cell_type": "markdown",
   "id": "a2f3b802-b59e-40dd-a693-7e490d80d6ce",
   "metadata": {},
   "source": [
    "To associate the task definition to a cluster, we need to create a service."
   ]
  },
  {
   "cell_type": "markdown",
   "id": "200350e1-ab0d-490c-8755-6bc7ae25fc73",
   "metadata": {},
   "source": [
    "```json\n",
    "{\n",
    "    \"cluster\": \"flaskapplication\",\n",
    "    \"serviceName\": \"flask-service\",\n",
    "    \"taskDefinition\": \"simpleflask\",\n",
    "    \"desiredCount\": 1\n",
    "}\n",
    "```"
   ]
  },
  {
   "cell_type": "markdown",
   "id": "d841bb55-f5d4-4f0a-aa3d-2664d426bde0",
   "metadata": {},
   "source": [
    "Then we can run the following:"
   ]
  },
  {
   "cell_type": "markdown",
   "id": "6839fe71-a80d-48ee-875e-d3370099c731",
   "metadata": {},
   "source": [
    "`aws ecs create-service --cli-input-json file://ecs-service.json`"
   ]
  },
  {
   "cell_type": "markdown",
   "id": "dd2bc9dd-a6f6-4c20-b65b-487590c48ec6",
   "metadata": {},
   "source": [
    "And we can see that AWS is now booting up tasks on our ECS cluster."
   ]
  },
  {
   "cell_type": "markdown",
   "id": "33c190f3-4020-4ea1-8a18-40f398d43421",
   "metadata": {},
   "source": [
    "<img src=\"./container-running.png\" width=\"100%\">"
   ]
  },
  {
   "cell_type": "markdown",
   "id": "7f0a83ce-81d7-4e0e-96d2-04bc3561946a",
   "metadata": {
    "tags": []
   },
   "source": [
    "### Resources"
   ]
  },
  {
   "cell_type": "markdown",
   "id": "e7079eb2-436c-4a90-b085-a72b569ed489",
   "metadata": {},
   "source": [
    "[Final Attempt](https://beabetterdev.com/2023/01/29/ecs-fargate-tutorial-with-fastapi/)"
   ]
  },
  {
   "cell_type": "markdown",
   "id": "e42fb47b-afbc-42c8-96c3-eea22c9582fb",
   "metadata": {},
   "source": [
    "[Gentle Intro to how ECS works - AWS ECS Tutorial](https://medium.com/boltops/gentle-introduction-to-how-aws-ecs-works-with-example-tutorial-cea3d27ce63d)\n",
    "\n",
    "[AWS ECS](https://docs.aws.amazon.com/AmazonECS/latest/developerguide/Welcome.html)"
   ]
  },
  {
   "cell_type": "markdown",
   "id": "1cf689cc-1467-4217-b951-7782df9a1669",
   "metadata": {},
   "source": [
    "[AWS Fargate](https://aws.amazon.com/blogs/aws/aws-fargate/)"
   ]
  },
  {
   "cell_type": "markdown",
   "id": "21e79b53-20ed-4da7-a969-f40f98f392fc",
   "metadata": {},
   "source": [
    "[AWS ECS and Fargate](https://dev.to/aws-builders/step-by-step-guide-highly-available-architecture-with-alb-and-amazon-ecs-on-aws-fargate-cgi)"
   ]
  },
  {
   "cell_type": "markdown",
   "id": "ea7fa844-32d1-4ca8-b239-fad4121bba56",
   "metadata": {},
   "source": [
    "[Node ECS Terraform](https://blog.devops.dev/deploying-docker-image-on-aws-ecs-infrastructure-automation-using-terraform-a-step-by-step-guide-23e17e5ced76)"
   ]
  },
  {
   "cell_type": "markdown",
   "id": "04c19768-efb9-4e20-8e2e-a3278e6cf820",
   "metadata": {},
   "source": [
    "[Fargate Pricing](https://www.simform.com/blog/aws-fargate-pricing/)"
   ]
  },
  {
   "cell_type": "markdown",
   "id": "47a2b703-3980-4017-8984-76214e7e4527",
   "metadata": {},
   "source": [
    "[Terraform ECS](https://spacelift.io/blog/terraform-ecs)"
   ]
  },
  {
   "cell_type": "code",
   "execution_count": null,
   "id": "1b235757-f366-486c-bd46-951f4179da8d",
   "metadata": {},
   "outputs": [],
   "source": []
  }
 ],
 "metadata": {
  "kernelspec": {
   "display_name": "Python 3 (ipykernel)",
   "language": "python",
   "name": "python3"
  },
  "language_info": {
   "codemirror_mode": {
    "name": "ipython",
    "version": 3
   },
   "file_extension": ".py",
   "mimetype": "text/x-python",
   "name": "python",
   "nbconvert_exporter": "python",
   "pygments_lexer": "ipython3",
   "version": "3.9.12"
  }
 },
 "nbformat": 4,
 "nbformat_minor": 5
}
