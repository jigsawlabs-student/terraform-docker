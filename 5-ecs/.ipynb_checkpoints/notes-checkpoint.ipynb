{
 "cells": [
  {
   "cell_type": "markdown",
   "id": "ea48822b-12ea-4f88-ae1a-43e9eeacfec3",
   "metadata": {},
   "source": [
    "# Gentle Introduction"
   ]
  },
  {
   "cell_type": "markdown",
   "id": "7f5ccb62-3876-412d-8ece-bb4f447c9a9e",
   "metadata": {},
   "source": [
    "1. Create a security group\n",
    "\n",
    "* `aws ec2 create-security-group --group-name my-ecs-sg --description my-ecs-sg`"
   ]
  },
  {
   "cell_type": "markdown",
   "id": "0e322ca7-764b-41ae-b18c-137cd35be499",
   "metadata": {},
   "source": [
    "2. Create a cluster\n",
    "    * Make sure to create a key pair, so that we can ssh\n",
    "    * Filter for the micro, and a single instance is fine"
   ]
  },
  {
   "cell_type": "markdown",
   "id": "03e42e63-3a9f-4a30-9568-1d69dbbadaf5",
   "metadata": {},
   "source": [
    "* Go to the [ec2 security groups](https://us-east-1.console.aws.amazon.com/ec2/home?region=us-east-1#SecurityGroups:) to find your security group.\n",
    "* Associate it with the ecs cluster"
   ]
  },
  {
   "cell_type": "markdown",
   "id": "7f0c153d-0786-4f13-a352-ff3d2b2c539a",
   "metadata": {},
   "source": [
    "### Set up the docker image"
   ]
  },
  {
   "cell_type": "markdown",
   "id": "32bc8962-d0f7-4531-971f-d36e9debe453",
   "metadata": {},
   "source": [
    "1. Run the docker image locally"
   ]
  },
  {
   "cell_type": "markdown",
   "id": "d05ad6f4-36a5-4286-af3e-a04039ebcd91",
   "metadata": {},
   "source": [
    "`docker run -p 4567:4567 --name hi tongueroo/sinatra`\n",
    "* port 4567 confirms it's working"
   ]
  },
  {
   "cell_type": "markdown",
   "id": "527c77ef-afb1-4bf8-8db2-df3f02d5e8e7",
   "metadata": {},
   "source": [
    "2. Create a new task definition"
   ]
  },
  {
   "cell_type": "markdown",
   "id": "4e7821a5-1970-4c8e-9740-4ef76f7a3455",
   "metadata": {},
   "source": [
    "* `aws ecs register-task-definition --cli-input-json file://task-definition.json`\n",
    "\n",
    "* Go to `task definitions` to confirm that it is there"
   ]
  },
  {
   "cell_type": "markdown",
   "id": "436279f6-8f76-43a9-aead-d593d6360b74",
   "metadata": {},
   "source": [
    "### Create Load Balancer"
   ]
  },
  {
   "cell_type": "markdown",
   "id": "e24ced8b-c931-4411-a07b-531a48f48957",
   "metadata": {},
   "source": [
    "1. Create the load balancer"
   ]
  },
  {
   "cell_type": "markdown",
   "id": "626d3ed4-8828-4f38-ab9c-0aa600a43596",
   "metadata": {},
   "source": [
    "* [Load Balancer](https://us-east-1.console.aws.amazon.com/ec2/home?region=us-east-1#LoadBalancers:)\n",
    "\n",
    "* Specifically [Application Load Balancer](https://us-east-1.console.aws.amazon.com/ec2/home?region=us-east-1#CreateALBWizard:)"
   ]
  },
  {
   "cell_type": "markdown",
   "id": "756a068b-e938-426f-946f-dd47f61dd182",
   "metadata": {},
   "source": [
    "* Choose the same subnets as are in the ECS cluster, if you are not sure, click on the ECS cluster, click on Autoscaling groups, then scroll down to network"
   ]
  },
  {
   "cell_type": "markdown",
   "id": "37330e85-6186-4767-a1b4-f28322e12a29",
   "metadata": {},
   "source": [
    "* Create a new security group - \n",
    "    * Allow port 80 inbound traffic, associate it with the ALB"
   ]
  },
  {
   "cell_type": "markdown",
   "id": "6c138448-a8d5-498c-b5ff-41819821327d",
   "metadata": {},
   "source": [
    "* Create a target group \n",
    "    * `my-target-group` and specify port 80"
   ]
  },
  {
   "cell_type": "markdown",
   "id": "08ecdb4f-fb10-4945-9e49-342dc476a362",
   "metadata": {},
   "source": [
    "2. Allow ECS access to the load balancer\n",
    "* `aws ec2 authorize-security-group-ingress --group-name my-ecs-sg --protocol tcp --port 1-65535 --source-group my-elb-sg`"
   ]
  },
  {
   "cell_type": "markdown",
   "id": "9d530198-5d86-45f1-af90-e49f8adf21f9",
   "metadata": {},
   "source": [
    "* So allows the elb security group to talk to the ecs security group.\n",
    "* And allows this on all ports (1 - 65535)\n",
    "* If find the ECS security group, can confirm this update"
   ]
  },
  {
   "cell_type": "markdown",
   "id": "4896a083-e072-4afc-8cc2-9b878afd691d",
   "metadata": {},
   "source": [
    "* Add the service definition, and fill in the target group arn that we created when create the lb\n",
    "    * [target groups](https://us-east-1.console.aws.amazon.com/ec2/home?region=us-east-1#TargetGroups:)"
   ]
  },
  {
   "cell_type": "markdown",
   "id": "28160b64-c935-4ac5-a926-e658311aa904",
   "metadata": {},
   "source": [
    "* Now the ECS service role "
   ]
  },
  {
   "cell_type": "markdown",
   "id": "3a57d24e-23bb-4fc0-8ac4-e0862b7f954e",
   "metadata": {},
   "source": [
    "[Simplilearn ECS](https://www.youtube.com/watch?v=46mFdtpy3NQ&ab_channel=Simplilearn)"
   ]
  },
  {
   "cell_type": "code",
   "execution_count": null,
   "id": "e91acfda-ed29-45b2-b183-d03851fa3481",
   "metadata": {},
   "outputs": [],
   "source": []
  }
 ],
 "metadata": {
  "kernelspec": {
   "display_name": "Python 3 (ipykernel)",
   "language": "python",
   "name": "python3"
  },
  "language_info": {
   "codemirror_mode": {
    "name": "ipython",
    "version": 3
   },
   "file_extension": ".py",
   "mimetype": "text/x-python",
   "name": "python",
   "nbconvert_exporter": "python",
   "pygments_lexer": "ipython3",
   "version": "3.9.12"
  }
 },
 "nbformat": 4,
 "nbformat_minor": 5
}
